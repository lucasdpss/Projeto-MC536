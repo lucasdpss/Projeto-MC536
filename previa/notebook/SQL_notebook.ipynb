{
 "cells": [
  {
   "cell_type": "code",
   "execution_count": 1,
   "id": "59932aae",
   "metadata": {},
   "outputs": [],
   "source": [
    "%defaultDatasource jdbc:h2:mem:db"
   ]
  },
  {
   "cell_type": "code",
   "execution_count": null,
   "id": "ee05443b",
   "metadata": {},
   "outputs": [],
   "source": [
    "CREATE TABLE Quads (\n",
    "    ID VARCHAR(10) NOT NULL,\n",
    "    LAT_MIN DECIMAL(10, 7) NOT NULL,\n",
    "    LAT_MAX DECIMAL(10, 7) NOT NULL,\n",
    "    LON_MAX DECIMAL(12, 9),\n",
    "    LON_MIN DECIMAL(12, 9),\n",
    "    PRIMARY KEY(ID)\n",
    ") AS SELECT\n",
    "    ID,\n",
    "    LAT_MIN,\n",
    "    LAT_MAX,\n",
    "    LON_MAX,\n",
    "    LON_MIN\n",
    "FROM CSVREAD('../data/processed/quads.csv');\n",
    "\n",
    "CREATE TABLE Postos \n",
    "(\n",
    "    ID INTEGER,\n",
    "    CLASSE VARCHAR(60) NOT NULL,\n",
    "    TIPO VARCHAR(60) NOT NULL,\n",
    "    LAT DECIMAL(10, 8) NOT NULL,\n",
    "    LON DECIMAL(10, 8) NOT NULL,\n",
    "    QUAD VARCHAR(10) NOT NULL,\n",
    "    PRIMARY KEY(ID),\n",
    "    FOREIGN KEY(QUAD)\n",
    "      REFERENCES Quads(Id)\n",
    "          ON DELETE NO ACTION\n",
    "          ON UPDATE NO ACTION,\n",
    ") AS SELECT *\n",
    "FROM CSVREAD('../data/processed/postos.csv');\n",
    "\n",
    "CREATE TABLE Postes (\n",
    "    ID INTEGER,\n",
    "    LAT DECIMAL(10, 8),\n",
    "    LON DECIMAL(10, 8),\n",
    "    QUAD VARCHAR(10),\n",
    "    PRIMARY KEY(ID)\n",
    ") AS SELECT *\n",
    "FROM CSVREAD('../data/processed/postes_ilum.csv');\n",
    "\n",
    "CREATE TABLE Tipos_Crimes (\n",
    "    NOME VARCHAR(20),\n",
    "    PRIMARY KEY(NOME)\n",
    ") AS SELECT\n",
    "    NOME\n",
    "FROM CSVREAD('../data/processed/tipos_crimes.csv');\n",
    "\n",
    "CREATE TABLE Crimes (\n",
    "    ID INTEGER,\n",
    "    ANO_BO DECIMAL(5, 0),\n",
    "    DATA_OCORRENCIA VARCHAR(21) NOT NULL,\n",
    "    HORA_OCORRENCIA VARCHAR(9) NOT NULL,\n",
    "    PERIODO VARCHAR(12) NOT NULL,\n",
    "    LAT DECIMAL(10, 8),\n",
    "    LON DECIMAL(10, 8),\n",
    "    TIPO_CRIME VARCHAR(20),\n",
    "    QUAD VARCHAR(10),\n",
    "    PRIMARY KEY(ID)\n",
    ") AS SELECT *\n",
    "FROM CSVREAD('../data/processed/crimes.csv');"
   ]
  },
  {
   "cell_type": "code",
   "execution_count": null,
   "id": "3f78ae1a",
   "metadata": {},
   "outputs": [],
   "source": []
  },
  {
   "cell_type": "code",
   "execution_count": null,
   "id": "3623ef09",
   "metadata": {},
   "outputs": [],
   "source": []
  }
 ],
 "metadata": {
  "kernelspec": {
   "display_name": "SQL",
   "language": "SQL",
   "name": "sql"
  },
  "language_info": {
   "codemirror_mode": "sql",
   "file_extension": ".sql",
   "mimetype": "",
   "name": "SQL",
   "nbconverter_exporter": "",
   "version": ""
  }
 },
 "nbformat": 4,
 "nbformat_minor": 5
}
