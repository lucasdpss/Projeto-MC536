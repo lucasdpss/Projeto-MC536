{
 "cells": [
  {
   "cell_type": "code",
   "execution_count": 1,
   "id": "83807f3a",
   "metadata": {},
   "outputs": [],
   "source": [
    "%defaultDatasource jdbc:h2:mem:db"
   ]
  },
  {
   "cell_type": "code",
   "execution_count": 2,
   "id": "c086e628",
   "metadata": {},
   "outputs": [],
   "source": [
    "CREATE TABLE Quads (\n",
    "    ID VARCHAR(10) NOT NULL,\n",
    "    LAT_MIN DECIMAL(10, 7) NOT NULL,\n",
    "    LAT_MAX DECIMAL(10, 7) NOT NULL,\n",
    "    LON_MAX DECIMAL(12, 9),\n",
    "    LON_MIN DECIMAL(12, 9),\n",
    "    PRIMARY KEY(ID)\n",
    ") AS SELECT\n",
    "    ID,\n",
    "    LAT_MIN,\n",
    "    LAT_MAX,\n",
    "    LON_MAX,\n",
    "    LON_MIN\n",
    "FROM CSVREAD('quadsss.csv');\n",
    "\n",
    "CREATE TABLE Postos \n",
    "(\n",
    "    ID INTEGER,\n",
    "    CLASSE VARCHAR(60) NOT NULL,\n",
    "    TIPO VARCHAR(60) NOT NULL,\n",
    "    LAT DECIMAL(10, 8) NOT NULL,\n",
    "    LON DECIMAL(10, 8) NOT NULL,\n",
    "    QUAD VARCHAR(10) NOT NULL,\n",
    "    PRIMARY KEY(ID),\n",
    "    FOREIGN KEY(QUAD)\n",
    "      REFERENCES Quads(Id)\n",
    "          ON DELETE NO ACTION\n",
    "          ON UPDATE NO ACTION,\n",
    ") AS SELECT *\n",
    "FROM CSVREAD('postos.csv');\n",
    "\n",
    "CREATE TABLE Postes (\n",
    "    ID INTEGER,\n",
    "    LAT DECIMAL(10, 8),\n",
    "    LON DECIMAL(10, 8),\n",
    "    QUAD VARCHAR(10),\n",
    "    PRIMARY KEY(ID)\n",
    ") AS SELECT *\n",
    "FROM CSVREAD('postes_ilum.csv');\n",
    "\n",
    "CREATE TABLE Tipos_Crimes (\n",
    "    NOME VARCHAR(20),\n",
    "    PRIMARY KEY(NOME)\n",
    ") AS SELECT\n",
    "    NOME\n",
    "FROM CSVREAD('tipos_crimes.csv');\n",
    "\n",
    "CREATE TABLE Crimes (\n",
    "    ID INTEGER,\n",
    "    ANO_BO DECIMAL(5, 0),\n",
    "    DATA_OCORRENCIA VARCHAR(21),\n",
    "    HORA_OCORRENCIA VARCHAR(9) NOT NULL,\n",
    "    PERIODO VARCHAR(12) NOT NULL,\n",
    "    LAT DECIMAL(10, 8),\n",
    "    LON DECIMAL(10, 8),\n",
    "    TIPO_CRIME VARCHAR(20),\n",
    "    QUAD VARCHAR(10),\n",
    "    PRIMARY KEY(ID)\n",
    ") AS SELECT *\n",
    "FROM CSVREAD('crimes.csv');"
   ]
  },
  {
   "cell_type": "raw",
   "id": "fbd1dfbc",
   "metadata": {},
   "source": [
    "Primeira Query - Diferença entre crimes diários e noturnos"
   ]
  },
  {
   "cell_type": "code",
   "execution_count": 3,
   "id": "8cc7172b",
   "metadata": {},
   "outputs": [],
   "source": [
    "CREATE VIEW Numero_crimes_diarios AS\n",
    "    SELECT Q.ID, COUNT(*) N_CRIMES_DIARIOS\n",
    "    FROM Crimes C, Quads Q\n",
    "    WHERE C.QUAD = Q.ID AND (C.PERIODO = 'PELA MANHÃ' OR C.PERIODO = 'A TARDE')\n",
    "    GROUP BY Q.ID;\n",
    "\n",
    "CREATE VIEW Numero_crimes_noturnos AS\n",
    "    SELECT Q.ID, COUNT(*) N_CRIMES\n",
    "    FROM Crimes C, Quads Q\n",
    "    WHERE C.QUAD = Q.ID AND (C.PERIODO = 'A NOITE' OR C.PERIODO = 'DE MADRUGADA')\n",
    "    GROUP BY Q.ID;"
   ]
  },
  {
   "cell_type": "code",
   "execution_count": null,
   "id": "71ac44b6",
   "metadata": {},
   "outputs": [],
   "source": [
    "SELECT NCN.ID, NCN.N_CRIMES\n",
    "    FROM Numero_crimes_noturnos NCN, Numero_crimes_diarios NCD\n",
    "    WHERE NCN.ID = NCD.ID\n",
    "    ORDER BY NCN.ID"
   ]
  },
  {
   "cell_type": "code",
   "execution_count": null,
   "id": "32b63a13",
   "metadata": {},
   "outputs": [],
   "source": [
    "Segunda Query - Efeito dos postes em crimes noturnos"
   ]
  },
  {
   "cell_type": "code",
   "execution_count": null,
   "id": "85e4acb8",
   "metadata": {},
   "outputs": [],
   "source": [
    "CREATE VIEW Numero_postes AS\n",
    "    SELECT Q.ID, COUNT(*) N_POSTES\n",
    "    FROM Postes P, Quads Q\n",
    "    WHERE P.QUAD = Q.ID\n",
    "    GROUP BY Q.ID;\n",
    "\n",
    "SELECT DISTINCT NCN.ID, NCN.N_CRIMES, NP.N_POSTES\n",
    "    FROM Numero_crimes_noturnos NCN, Numero_postes NP\n",
    "    WHERE NCN.ID = NP.ID\n",
    "    ORDER BY NCN.N_CRIMES"
   ]
  },
  {
   "cell_type": "raw",
   "id": "88625f6e",
   "metadata": {},
   "source": [
    "Terceira Query - Efeito dos postos policiais em crimes"
   ]
  },
  {
   "cell_type": "code",
   "execution_count": 5,
   "id": "80d97cfb",
   "metadata": {},
   "outputs": [
    {
     "data": {
      "application/vnd.jupyter.widget-view+json": {
       "model_id": "f84dd5d8-41f2-4e92-b8ef-5cf1667691c7",
       "version_major": 2,
       "version_minor": 0
      },
      "method": "display_data"
     },
     "metadata": {},
     "output_type": "display_data"
    }
   ],
   "source": [
    "CREATE VIEW Numero_crimes AS\n",
    "    SELECT Q.ID, COUNT(*) N_CRIMES\n",
    "    FROM Crimes C, Quads Q\n",
    "    WHERE C.QUAD = Q.ID\n",
    "    GROUP BY Q.ID;\n",
    "    \n",
    "CREATE VIEW Numero_postos AS\n",
    "    SELECT Q.ID, COUNT(*) N_POSTOS\n",
    "    FROM Postos P, Quads Q\n",
    "    WHERE P.QUAD= Q.ID\n",
    "    GROUP BY Q.ID;\n",
    "\n",
    "SELECT NC.ID, NC.N_CRIMES, NP.N_POSTOS\n",
    "    FROM Numero_crimes NC, Numero_postos NP\n",
    "    WHERE NC.ID = NP.ID\n",
    "    ORDER BY NC.N_CRIMES"
   ]
  },
  {
   "cell_type": "raw",
   "id": "a245b848",
   "metadata": {},
   "source": [
    "Quarta Query - Tipos de crimes mais comum à noite"
   ]
  },
  {
   "cell_type": "code",
   "execution_count": 8,
   "id": "5721899e",
   "metadata": {},
   "outputs": [
    {
     "data": {
      "text/plain": [
       "ROUBO"
      ]
     },
     "execution_count": 8,
     "metadata": {},
     "output_type": "execute_result"
    }
   ],
   "source": [
    "CREATE VIEW Crimes_noite AS\n",
    "SELECT C.TIPO_CRIME, COUNT(*) Contagem\n",
    "    FROM Crimes C\n",
    "    WHERE C.PERIODO = 'A NOITE'\n",
    "    GROUP BY C.TIPO_CRIME\n",
    "    ORDER BY Contagem DESC;\n",
    "\n",
    "SELECT TIPO_CRIME\n",
    "    FROM Crimes_noite\n",
    "    WHERE Contagem = (SELECT MAX(Contagem) FROM Crimes_noite)"
   ]
  },
  {
   "cell_type": "raw",
   "id": "c8955822",
   "metadata": {},
   "source": [
    "Quinta Query - Tipo de crime que mais acontece na região com mais postos policiais"
   ]
  },
  {
   "cell_type": "code",
   "execution_count": 6,
   "id": "9dca72ae",
   "metadata": {},
   "outputs": [
    {
     "data": {
      "application/vnd.jupyter.widget-view+json": {
       "model_id": "cfca638a-1318-4ee6-b7d1-70e99d13870f",
       "version_major": 2,
       "version_minor": 0
      },
      "method": "display_data"
     },
     "metadata": {},
     "output_type": "display_data"
    }
   ],
   "source": [
    "SELECT C.TIPO_CRIME, COUNT(*) Contagem\n",
    "    FROM Crimes C\n",
    "    WHERE C.QUAD IN (SELECT NP.ID\n",
    "            FROM Numero_postos NP\n",
    "            WHERE N_POSTOS = (SELECT MAX(N_POSTOS) FROM Numero_postos))\n",
    "    GROUP BY C.TIPO_CRIME\n",
    "    ORDER BY Contagem DESC"
   ]
  },
  {
   "cell_type": "code",
   "execution_count": null,
   "id": "7bb7bacd",
   "metadata": {},
   "outputs": [],
   "source": []
  }
 ],
 "metadata": {
  "kernelspec": {
   "display_name": "SQL",
   "language": "SQL",
   "name": "sql"
  },
  "language_info": {
   "codemirror_mode": "sql",
   "file_extension": ".sql",
   "mimetype": "",
   "name": "SQL",
   "nbconverter_exporter": "",
   "version": ""
  }
 },
 "nbformat": 4,
 "nbformat_minor": 5
}
